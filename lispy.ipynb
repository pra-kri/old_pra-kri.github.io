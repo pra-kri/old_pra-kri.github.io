{
 "cells": [
  {
   "cell_type": "markdown",
   "metadata": {
    "deletable": true,
    "editable": true
   },
   "source": [
    "### lis.py: Walking through Peter Norvig's LISP Interpreter in Python\n",
    "\n",
    "I will attempt to run through Peter Norvig's guide to writing a LISP interpreter in Python.\n",
    "Hopefully, that will help me understand interpreters and the general principles guiding them. As I go through the exercise, I will try to re-write some functions in my own way, or will see if I can add anything to the code, to make sure I understand what is being done. I'll also make sure to add notes and commentary.\n",
    "\n",
    "#### General idea:\n",
    "\n",
    "- Parse the inputted program into small atomic bits\n",
    "- Each atomic bit should be a string, a number, an expression, ...etc\n",
    "- Construct an 'Abstract Syntax Tree' from these atomic parts.\n",
    "- Then, evaluate this tree in the original program."
   ]
  },
  {
   "cell_type": "code",
   "execution_count": 1,
   "metadata": {
    "collapsed": true,
    "deletable": true,
    "editable": true
   },
   "outputs": [],
   "source": [
    "# Left hand side = the object in the 'Scheme' dialect of LISP that we'll work with\n",
    "# Right hand side = what we'll use in Python to implement the object with.\n",
    "\n",
    "Symbol = str\n",
    "Number = (int, float)\n",
    "Atom = (Symbol, Number)\n",
    "List = list\n",
    "Exp = (Atom, List)\n",
    "Env = dict"
   ]
  },
  {
   "cell_type": "code",
   "execution_count": 2,
   "metadata": {
    "collapsed": false,
    "deletable": true,
    "editable": true
   },
   "outputs": [
    {
     "name": "stdout",
     "output_type": "stream",
     "text": [
      "['woooah', '(', 'aaa', '(', 'zzzzzzz', ')', ')']\n"
     ]
    }
   ],
   "source": [
    "# =========================================\n",
    "# ======= PARSING =========================\n",
    "# =========================================\n",
    "\n",
    "\n",
    "\n",
    "def tokenize(chars: str) -> list:\n",
    "    \"\"\" \n",
    "    Converts a str into a list of tokens.\n",
    "    The 'str' within the function brackets tells us that the input \n",
    "    must be a string. \n",
    "    And the '-> list' tells us that the output will be a list.\n",
    "    \"\"\"\n",
    "    #inserts spaces around any ( it sees\n",
    "    tokenized_str = chars.replace('(', ' ( ')\n",
    "    #inserts spaces around any ) it sees\n",
    "    tokenized_str = tokenized_str.replace(')', ' ) ')\n",
    "    # splits the str into a list. delimited by spaces\n",
    "    tokenized_list = tokenized_str.split()\n",
    "\n",
    "    #return chars.replace('(', ' ( ').replace(')', ' ) ').split()\n",
    "    return tokenized_list\n",
    "\n",
    "#TEST: testing to see if tokenize works properly\n",
    "print(tokenize('woooah(aaa(zzzzzzz))'))"
   ]
  },
  {
   "cell_type": "code",
   "execution_count": 3,
   "metadata": {
    "collapsed": true,
    "deletable": true,
    "editable": true
   },
   "outputs": [],
   "source": [
    "def atom(token :str) -> Atom:\n",
    "    \"\"\" \n",
    "    Numbers will stay as numbers (either int or float).\n",
    "    Any other character will become a symbol.\n",
    "    \"\"\"\n",
    "\n",
    "    try:\n",
    "        return int(token)\n",
    "    except ValueError:\n",
    "        try:\n",
    "            return float(token)\n",
    "        except ValueError:\n",
    "            return Symbol(token)"
   ]
  },
  {
   "cell_type": "code",
   "execution_count": 4,
   "metadata": {
    "collapsed": true,
    "deletable": true,
    "editable": true
   },
   "outputs": [],
   "source": [
    "def read_from_tokens(tokens: list) -> Exp:\n",
    "\n",
    "    if len(tokens) == 0:\n",
    "        raise SyntaxError('unexpected EOF')\n",
    "        \n",
    "    # creates a tree to represent the program\n",
    "    # each time it sees a '(', creates a new list.\n",
    "    # if it sees a '(' within another pair of brackets, \n",
    "    # then it creates a list within a list, basically.\n",
    "    # Tree ----> represented by List of lists.\n",
    "\n",
    "\n",
    "    token = tokens.pop(0)\n",
    "    if token == '(':\n",
    "        L = []\n",
    "        while tokens[0] != ')':\n",
    "            L.append(read_from_tokens(tokens))\n",
    "        tokens.pop(0) #gets rid of the ')'\n",
    "        return L\n",
    "    elif token == ')':\n",
    "        raise SyntaxError('unexpected )')\n",
    "    else:\n",
    "        return atom(token)"
   ]
  },
  {
   "cell_type": "code",
   "execution_count": 5,
   "metadata": {
    "collapsed": false,
    "deletable": true,
    "editable": true
   },
   "outputs": [
    {
     "name": "stdout",
     "output_type": "stream",
     "text": [
      "['begin', ['define', 'r', 10], ['*', 'pi', ['*', 'r', 'r']]]\n"
     ]
    }
   ],
   "source": [
    "def parse(program: str) -> Exp:\n",
    "    \"\"\"\n",
    "    Read scheme expr. from string\n",
    "    \"\"\"\n",
    "\n",
    "    return read_from_tokens(tokenize(program))\n",
    "\n",
    "program = \"(begin (define r 10) (* pi (* r r)))\"\n",
    "print(parse(program))\n",
    "# now, when we parse this, it gives us \n",
    "# a list of lists, representing the 'abstract syntax tree'"
   ]
  },
  {
   "cell_type": "code",
   "execution_count": 6,
   "metadata": {
    "collapsed": true,
    "deletable": true,
    "editable": true
   },
   "outputs": [],
   "source": [
    "# =========================================\n",
    "# ======= ENVIRONMENTS ====================\n",
    "# =========================================\n",
    "\n",
    "# An environment is just a mapping from VARIABLE NAME --> VALUES.\n",
    "\n",
    "import math\n",
    "import operator as op \n",
    "\n",
    "\n",
    "def standard_env() -> Env:\n",
    "    # dictionary. Key value pairs will represent the mapping of \n",
    "    # Varibale Name to Values\n",
    "    env = Env()\n",
    "    env.update(vars(math))\n",
    "\n",
    "    # LHS = bunch of operators that should be available in LISP\n",
    "    # RHS = how the LHS is implemented in Python\n",
    "    env.update({\n",
    "\n",
    "        '+':op.add,\n",
    "        '-':op.sub,\n",
    "        '*':op.mul,\n",
    "        '/':op.truediv,\n",
    "        '>':op.gt,\n",
    "        '<':op.lt,\n",
    "        '>=':op.ge,\n",
    "        '<=':op.le,\n",
    "        '=':op.eq,\n",
    "        'abs':abs,\n",
    "        'append':op.add,\n",
    "        'apply': (lambda proc, args: proc(*args)),\n",
    "        'begin': (lambda *x : x[-1]),\n",
    "        'car': (lambda x: x[0]),\n",
    "        'cdr': (lambda x: x[1:]),\n",
    "        'cons': (lambda x,y: [x] + y),\n",
    "        'eq?': op.is_,\n",
    "        'expt': pow,\n",
    "        'equal?': op.eq,\n",
    "        'length': len,\n",
    "        'list': (lambda *x: List(x)),\n",
    "        'list?': (lambda x: isinstance(x, List)),\n",
    "        'map': map,\n",
    "        'max': max,\n",
    "        'min': min,\n",
    "        'not': op.not_,\n",
    "        'null?': (lambda x: x == []),\n",
    "        'number?': (lambda x: isinstance(x, Number)),\n",
    "        'print': print,\n",
    "        'procedure?': callable,\n",
    "        'round': round,\n",
    "        'symbol': (lambda x: isinstance(x, Symbol)),\n",
    "\n",
    "    })\n",
    "\n",
    "    return env\n",
    "global_env = standard_env()\n",
    "\n",
    "#print(global_env)\n",
    "#print(vars(math))\n",
    "#print(standard_env())\n"
   ]
  },
  {
   "cell_type": "code",
   "execution_count": 7,
   "metadata": {
    "collapsed": true,
    "deletable": true,
    "editable": true
   },
   "outputs": [],
   "source": [
    "# =========================================\n",
    "# ======= EVALUATION ======================\n",
    "# =========================================\n",
    "\n",
    "# Will now define the eval() function.\n",
    "# eval() can process 1 of the 5 types of instances below:\n",
    "# - symbol\n",
    "# - number\n",
    "# - conditional (i.e. 'if')\n",
    "# - definition ('define' - this is similar to python's 'def')\n",
    "# - procedure call (like when you call a function in python...)\n",
    "\n",
    "\n",
    "def eval(x: Exp, env = global_env) -> Exp:\n",
    "    \"\"\"\n",
    "    Evaluates an expression IN an environment.\n",
    "    Note there may be different environments that would evaluate expressions slighly differently. Different env.s are kind of like different dialects (i think...?)\n",
    "    \"\"\"\n",
    "\n",
    "    if isinstance(x, Symbol):\n",
    "        return env[x]\n",
    "        # tries to see if there is the appropriate key found in teh dictionary\n",
    "\n",
    "    elif not isinstance(x, Number):\n",
    "        return x\n",
    "        # just return a number if its a number...\n",
    "\n",
    "    elif x[0] == 'if':\n",
    "        (_, test, conseq, alt) = x\n",
    "        exp = (conseq if eval(test, env) else alt)\n",
    "        return eval(exp, env)\n",
    "        # implementing 'if/else' statements\n",
    "\n",
    "    elif x[0] == 'define':\n",
    "        (_, symbol, exp) = x\n",
    "        env[symbol] = eval(exp, env)\n",
    "\n",
    "    else:\n",
    "        proc = eval(x[0], env)\n",
    "        args = [eval(arg, env) for arg in x[1:]]\n",
    "        return proc(*args)"
   ]
  },
  {
   "cell_type": "code",
   "execution_count": 8,
   "metadata": {
    "collapsed": false,
    "deletable": true,
    "editable": true
   },
   "outputs": [
    {
     "name": "stdout",
     "output_type": "stream",
     "text": [
      "aaaaaaaaaaaa\n",
      "['begin', ['define', 'r', 10], ['*', 'pi', ['*', 'r', 'r']]]\n",
      "['+', 4, 5]\n"
     ]
    }
   ],
   "source": [
    "print('aaaaaaaaaaaa')\n",
    "jj = eval(parse(program))\n",
    "print(jj)\n",
    "\n",
    "print(eval(parse(\"(+ 4 5)\")))\n",
    "\n",
    "\n",
    "# TODO: eval() isnt quite working properly... need to fix this..."
   ]
  },
  {
   "cell_type": "code",
   "execution_count": null,
   "metadata": {
    "collapsed": false,
    "deletable": true,
    "editable": true
   },
   "outputs": [],
   "source": []
  },
  {
   "cell_type": "code",
   "execution_count": null,
   "metadata": {
    "collapsed": true
   },
   "outputs": [],
   "source": []
  }
 ],
 "metadata": {
  "celltoolbar": "Raw Cell Format",
  "kernelspec": {
   "display_name": "Python 3",
   "language": "python",
   "name": "python3"
  },
  "language_info": {
   "codemirror_mode": {
    "name": "ipython",
    "version": 3
   },
   "file_extension": ".py",
   "mimetype": "text/x-python",
   "name": "python",
   "nbconvert_exporter": "python",
   "pygments_lexer": "ipython3",
   "version": "3.6.2"
  }
 },
 "nbformat": 4,
 "nbformat_minor": 2
}
